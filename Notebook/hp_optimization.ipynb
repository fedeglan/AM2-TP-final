{
 "cells": [
  {
   "cell_type": "code",
   "execution_count": 1,
   "metadata": {},
   "outputs": [
    {
     "name": "stderr",
     "output_type": "stream",
     "text": [
      "/Users/federicoglancszpigel/Desktop/AM2-TP-final/env/lib/python3.9/site-packages/tqdm/auto.py:21: TqdmWarning: IProgress not found. Please update jupyter and ipywidgets. See https://ipywidgets.readthedocs.io/en/stable/user_install.html\n",
      "  from .autonotebook import tqdm as notebook_tqdm\n"
     ]
    }
   ],
   "source": [
    "# Package imports\n",
    "import os\n",
    "import sys\n",
    "import pandas as pd\n",
    "import numpy as np\n",
    "import optuna\n",
    "from sklearn.linear_model import LinearRegression\n",
    "from sklearn.model_selection import train_test_split\n",
    "from sklearn.metrics import mean_squared_error\n",
    "\n",
    "# Local imports\n",
    "root_path = os.path.dirname(os.getcwd())\n",
    "src_path = os.path.join(root_path, \"src\")\n",
    "sys.path.append(src_path)\n",
    "from feature_engineering import FeatureEngineeringPipeline"
   ]
  },
  {
   "cell_type": "code",
   "execution_count": 4,
   "metadata": {},
   "outputs": [
    {
     "name": "stderr",
     "output_type": "stream",
     "text": [
      "2023-07-26 18:39:31 - DEBUG - FeatureEngineering - data was read succesfully.\n",
      "2023-07-26 18:39:31 - DEBUG - FeatureEngineering - data was read succesfully.\n",
      "2023-07-26 18:39:31 - DEBUG - FeatureEngineering - establishment years were corrected.\n",
      "2023-07-26 18:39:31 - DEBUG - FeatureEngineering - establishment years were corrected.\n",
      "2023-07-26 18:39:31 - DEBUG - FeatureEngineering - unique labels were created for Item_Fat_Content\n",
      "2023-07-26 18:39:31 - DEBUG - FeatureEngineering - unique labels were created for Item_Fat_Content\n",
      "2023-07-26 18:39:33 - DEBUG - FeatureEngineering - missing Item_Weight was cleaned.\n",
      "2023-07-26 18:39:33 - DEBUG - FeatureEngineering - missing Item_Weight was cleaned.\n",
      "2023-07-26 18:39:33 - DEBUG - FeatureEngineering - missing Outlet_Size was cleaned.\n",
      "2023-07-26 18:39:33 - DEBUG - FeatureEngineering - missing Outlet_Size was cleaned.\n",
      "2023-07-26 18:39:33 - DEBUG - FeatureEngineering - none category was added to Item_Fat_Content.\n",
      "2023-07-26 18:39:33 - DEBUG - FeatureEngineering - none category was added to Item_Fat_Content.\n",
      "2023-07-26 18:39:33 - DEBUG - FeatureEngineering - new categories were created for Item_Type.\n",
      "2023-07-26 18:39:33 - DEBUG - FeatureEngineering - new categories were created for Item_Type.\n",
      "2023-07-26 18:39:33 - DEBUG - FeatureEngineering - new categories were assigned for Item_Fat_Content.\n",
      "2023-07-26 18:39:33 - DEBUG - FeatureEngineering - new categories were assigned for Item_Fat_Content.\n",
      "2023-07-26 18:39:33 - DEBUG - FeatureEngineering - product prices were embedded.\n",
      "2023-07-26 18:39:33 - DEBUG - FeatureEngineering - product prices were embedded.\n",
      "2023-07-26 18:39:33 - DEBUG - FeatureEngineering - ordinal variables were embedded.\n",
      "2023-07-26 18:39:33 - DEBUG - FeatureEngineering - ordinal variables were embedded.\n",
      "2023-07-26 18:39:33 - DEBUG - FeatureEngineering - nominal variables were embedded.\n",
      "2023-07-26 18:39:33 - DEBUG - FeatureEngineering - nominal variables were embedded.\n",
      "2023-07-26 18:39:33 - DEBUG - FeatureEngineering - Item_Identifier and Outlet_Identifier removed.\n",
      "2023-07-26 18:39:33 - DEBUG - FeatureEngineering - Item_Identifier and Outlet_Identifier removed.\n",
      "2023-07-26 18:39:33 - DEBUG - FeatureEngineering - Item_Type and Item_Fat_Content removed.\n",
      "2023-07-26 18:39:33 - DEBUG - FeatureEngineering - Item_Type and Item_Fat_Content removed.\n",
      "2023-07-26 18:39:33 - DEBUG - FeatureEngineering - data was saved sucesfully.\n",
      "2023-07-26 18:39:33 - DEBUG - FeatureEngineering - data was saved sucesfully.\n"
     ]
    }
   ],
   "source": [
    "# Run feature engineering pipeline\n",
    "fe_pipeline = FeatureEngineeringPipeline(os.path.join(root_path, \"data\", \"Train_BigMart.csv\"),\n",
    "                           os.path.join(root_path, \"data\", \"transformed_dataset.csv\"))\n",
    "fe_pipeline.run()"
   ]
  },
  {
   "cell_type": "code",
   "execution_count": 5,
   "metadata": {},
   "outputs": [],
   "source": [
    "# Import transformed data\n",
    "data = pd.read_csv(os.path.join(root_path, \"data\", \"transformed_dataset.csv\"), index_col=0)"
   ]
  },
  {
   "cell_type": "code",
   "execution_count": 8,
   "metadata": {},
   "outputs": [],
   "source": [
    "# Train-validation split\n",
    "X = data.drop(columns=[\"Item_Outlet_Sales\"])\n",
    "y = data[\"Item_Outlet_Sales\"]\n",
    "X_train, X_val, y_train, y_val = train_test_split(X, y, test_size=0.2, random_state=28)\n",
    "\n",
    "# Define the functions for optimizing HPs with optuna\n",
    "def objective(trial):\n",
    "    # Define the hyperparameters to tune \n",
    "    fit_intercept = trial.suggest_categorical('fit_intercept', [True, False])\n",
    "    positive = trial.suggest_categorical('positive', [True, False])\n",
    "    copy_X = trial.suggest_categorical('copy_X', [True, False])\n",
    "    n_jobs = trial.suggest_int('n_jobs', 1, 4)\n",
    "\n",
    "    # Create a Linear Regression model with the suggested hyperparameters\n",
    "    model = LinearRegression(\n",
    "        fit_intercept=fit_intercept,\n",
    "        positive=positive,\n",
    "        copy_X=copy_X,\n",
    "        n_jobs=n_jobs\n",
    "    )\n",
    "\n",
    "    # Train the model on the training data\n",
    "    model.fit(X_train, y_train)\n",
    "\n",
    "    # Predict on the validation data\n",
    "    y_pred = model.predict(X_val)\n",
    "\n",
    "    # Calculate the mean squared error as the objective to minimize\n",
    "    mse = mean_squared_error(y_val, y_pred)\n",
    "    return mse\n",
    "\n",
    "def optimize_linear_regression():\n",
    "    # Create a study object and optimize the objective function\n",
    "    study = optuna.create_study(direction='minimize')\n",
    "    study.optimize(objective, n_trials=100)\n",
    "\n",
    "    # Get the best hyperparameters\n",
    "    best_params = study.best_params\n",
    "\n",
    "    # Get best value\n",
    "    best_score = study.best_trial.value\n",
    "    \n",
    "    return best_params, best_score"
   ]
  },
  {
   "cell_type": "code",
   "execution_count": 9,
   "metadata": {},
   "outputs": [
    {
     "name": "stderr",
     "output_type": "stream",
     "text": [
      "[I 2023-07-26 18:40:19,244] A new study created in memory with name: no-name-1984c86b-2ba2-427f-b750-24e900ed1d76\n",
      "[I 2023-07-26 18:40:19,266] Trial 0 finished with value: 1278104.0105896648 and parameters: {'fit_intercept': False, 'positive': False, 'copy_X': True, 'n_jobs': 1}. Best is trial 0 with value: 1278104.0105896648.\n",
      "[I 2023-07-26 18:40:19,286] Trial 1 finished with value: 1508584.7015556984 and parameters: {'fit_intercept': False, 'positive': True, 'copy_X': True, 'n_jobs': 4}. Best is trial 0 with value: 1278104.0105896648.\n",
      "[I 2023-07-26 18:40:19,304] Trial 2 finished with value: 1278104.0105896648 and parameters: {'fit_intercept': False, 'positive': False, 'copy_X': True, 'n_jobs': 4}. Best is trial 0 with value: 1278104.0105896648.\n",
      "[I 2023-07-26 18:40:19,319] Trial 3 finished with value: 1278104.0105896648 and parameters: {'fit_intercept': False, 'positive': False, 'copy_X': True, 'n_jobs': 1}. Best is trial 0 with value: 1278104.0105896648.\n",
      "[I 2023-07-26 18:40:19,323] Trial 4 finished with value: 1279203.9077876082 and parameters: {'fit_intercept': True, 'positive': True, 'copy_X': False, 'n_jobs': 1}. Best is trial 0 with value: 1278104.0105896648.\n",
      "[I 2023-07-26 18:40:19,332] Trial 5 finished with value: 1278104.0105896648 and parameters: {'fit_intercept': False, 'positive': False, 'copy_X': True, 'n_jobs': 2}. Best is trial 0 with value: 1278104.0105896648.\n",
      "[I 2023-07-26 18:40:19,337] Trial 6 finished with value: 1508584.7015556984 and parameters: {'fit_intercept': False, 'positive': True, 'copy_X': False, 'n_jobs': 3}. Best is trial 0 with value: 1278104.0105896648.\n",
      "[I 2023-07-26 18:40:19,341] Trial 7 finished with value: 1508584.7015556984 and parameters: {'fit_intercept': False, 'positive': True, 'copy_X': True, 'n_jobs': 4}. Best is trial 0 with value: 1278104.0105896648.\n",
      "[I 2023-07-26 18:40:19,345] Trial 8 finished with value: 1279203.9077876082 and parameters: {'fit_intercept': True, 'positive': True, 'copy_X': False, 'n_jobs': 1}. Best is trial 0 with value: 1278104.0105896648.\n",
      "[I 2023-07-26 18:40:19,350] Trial 9 finished with value: 1279203.9077876082 and parameters: {'fit_intercept': True, 'positive': True, 'copy_X': False, 'n_jobs': 1}. Best is trial 0 with value: 1278104.0105896648.\n",
      "[I 2023-07-26 18:40:19,367] Trial 10 finished with value: 1278104.0105896655 and parameters: {'fit_intercept': True, 'positive': False, 'copy_X': True, 'n_jobs': 2}. Best is trial 0 with value: 1278104.0105896648.\n",
      "[I 2023-07-26 18:40:19,381] Trial 11 finished with value: 1278104.0105896648 and parameters: {'fit_intercept': False, 'positive': False, 'copy_X': True, 'n_jobs': 3}. Best is trial 0 with value: 1278104.0105896648.\n",
      "[I 2023-07-26 18:40:19,394] Trial 12 finished with value: 1278104.0105896648 and parameters: {'fit_intercept': False, 'positive': False, 'copy_X': True, 'n_jobs': 3}. Best is trial 0 with value: 1278104.0105896648.\n",
      "[I 2023-07-26 18:40:19,407] Trial 13 finished with value: 1278104.0105896648 and parameters: {'fit_intercept': False, 'positive': False, 'copy_X': True, 'n_jobs': 2}. Best is trial 0 with value: 1278104.0105896648.\n",
      "[I 2023-07-26 18:40:19,420] Trial 14 finished with value: 1278104.0105896648 and parameters: {'fit_intercept': False, 'positive': False, 'copy_X': True, 'n_jobs': 4}. Best is trial 0 with value: 1278104.0105896648.\n",
      "[I 2023-07-26 18:40:19,434] Trial 15 finished with value: 1278104.0105896648 and parameters: {'fit_intercept': False, 'positive': False, 'copy_X': True, 'n_jobs': 3}. Best is trial 0 with value: 1278104.0105896648.\n",
      "[I 2023-07-26 18:40:19,448] Trial 16 finished with value: 1278104.0105896648 and parameters: {'fit_intercept': False, 'positive': False, 'copy_X': True, 'n_jobs': 2}. Best is trial 0 with value: 1278104.0105896648.\n",
      "[I 2023-07-26 18:40:19,462] Trial 17 finished with value: 1278104.0105896648 and parameters: {'fit_intercept': False, 'positive': False, 'copy_X': True, 'n_jobs': 4}. Best is trial 0 with value: 1278104.0105896648.\n",
      "[I 2023-07-26 18:40:19,477] Trial 18 finished with value: 1278104.0105896655 and parameters: {'fit_intercept': True, 'positive': False, 'copy_X': False, 'n_jobs': 2}. Best is trial 0 with value: 1278104.0105896648.\n",
      "[I 2023-07-26 18:40:19,491] Trial 19 finished with value: 1278104.0105896648 and parameters: {'fit_intercept': False, 'positive': False, 'copy_X': True, 'n_jobs': 3}. Best is trial 0 with value: 1278104.0105896648.\n",
      "[I 2023-07-26 18:40:19,504] Trial 20 finished with value: 1278104.0105896648 and parameters: {'fit_intercept': False, 'positive': False, 'copy_X': True, 'n_jobs': 1}. Best is trial 0 with value: 1278104.0105896648.\n",
      "[I 2023-07-26 18:40:19,518] Trial 21 finished with value: 1278104.0105896648 and parameters: {'fit_intercept': False, 'positive': False, 'copy_X': True, 'n_jobs': 1}. Best is trial 0 with value: 1278104.0105896648.\n",
      "[I 2023-07-26 18:40:19,532] Trial 22 finished with value: 1278104.0105896648 and parameters: {'fit_intercept': False, 'positive': False, 'copy_X': True, 'n_jobs': 1}. Best is trial 0 with value: 1278104.0105896648.\n",
      "[I 2023-07-26 18:40:19,545] Trial 23 finished with value: 1278104.0105896648 and parameters: {'fit_intercept': False, 'positive': False, 'copy_X': True, 'n_jobs': 1}. Best is trial 0 with value: 1278104.0105896648.\n",
      "[I 2023-07-26 18:40:19,558] Trial 24 finished with value: 1278104.0105896648 and parameters: {'fit_intercept': False, 'positive': False, 'copy_X': True, 'n_jobs': 2}. Best is trial 0 with value: 1278104.0105896648.\n",
      "[I 2023-07-26 18:40:19,571] Trial 25 finished with value: 1278104.0105896648 and parameters: {'fit_intercept': False, 'positive': False, 'copy_X': True, 'n_jobs': 1}. Best is trial 0 with value: 1278104.0105896648.\n",
      "[I 2023-07-26 18:40:19,585] Trial 26 finished with value: 1278104.0105896655 and parameters: {'fit_intercept': True, 'positive': False, 'copy_X': False, 'n_jobs': 2}. Best is trial 0 with value: 1278104.0105896648.\n",
      "[I 2023-07-26 18:40:19,599] Trial 27 finished with value: 1278104.0105896648 and parameters: {'fit_intercept': False, 'positive': False, 'copy_X': True, 'n_jobs': 4}. Best is trial 0 with value: 1278104.0105896648.\n",
      "[I 2023-07-26 18:40:19,613] Trial 28 finished with value: 1278104.0105896648 and parameters: {'fit_intercept': False, 'positive': False, 'copy_X': True, 'n_jobs': 1}. Best is trial 0 with value: 1278104.0105896648.\n",
      "[I 2023-07-26 18:40:19,622] Trial 29 finished with value: 1508584.7015556984 and parameters: {'fit_intercept': False, 'positive': True, 'copy_X': True, 'n_jobs': 4}. Best is trial 0 with value: 1278104.0105896648.\n",
      "[I 2023-07-26 18:40:19,636] Trial 30 finished with value: 1278104.0105896648 and parameters: {'fit_intercept': False, 'positive': False, 'copy_X': True, 'n_jobs': 3}. Best is trial 0 with value: 1278104.0105896648.\n",
      "[I 2023-07-26 18:40:19,651] Trial 31 finished with value: 1278104.0105896648 and parameters: {'fit_intercept': False, 'positive': False, 'copy_X': True, 'n_jobs': 2}. Best is trial 0 with value: 1278104.0105896648.\n",
      "[I 2023-07-26 18:40:19,665] Trial 32 finished with value: 1278104.0105896648 and parameters: {'fit_intercept': False, 'positive': False, 'copy_X': True, 'n_jobs': 1}. Best is trial 0 with value: 1278104.0105896648.\n",
      "[I 2023-07-26 18:40:19,679] Trial 33 finished with value: 1278104.0105896648 and parameters: {'fit_intercept': False, 'positive': False, 'copy_X': True, 'n_jobs': 2}. Best is trial 0 with value: 1278104.0105896648.\n",
      "[I 2023-07-26 18:40:19,689] Trial 34 finished with value: 1508584.7015556984 and parameters: {'fit_intercept': False, 'positive': True, 'copy_X': False, 'n_jobs': 1}. Best is trial 0 with value: 1278104.0105896648.\n",
      "[I 2023-07-26 18:40:19,699] Trial 35 finished with value: 1279203.9077876082 and parameters: {'fit_intercept': True, 'positive': True, 'copy_X': True, 'n_jobs': 2}. Best is trial 0 with value: 1278104.0105896648.\n",
      "[I 2023-07-26 18:40:19,712] Trial 36 finished with value: 1278104.0105896648 and parameters: {'fit_intercept': False, 'positive': False, 'copy_X': False, 'n_jobs': 1}. Best is trial 0 with value: 1278104.0105896648.\n",
      "[I 2023-07-26 18:40:19,722] Trial 37 finished with value: 1279203.9077876082 and parameters: {'fit_intercept': True, 'positive': True, 'copy_X': True, 'n_jobs': 3}. Best is trial 0 with value: 1278104.0105896648.\n",
      "[I 2023-07-26 18:40:19,735] Trial 38 finished with value: 1278104.0105896648 and parameters: {'fit_intercept': False, 'positive': False, 'copy_X': True, 'n_jobs': 2}. Best is trial 0 with value: 1278104.0105896648.\n",
      "[I 2023-07-26 18:40:19,749] Trial 39 finished with value: 1278104.0105896648 and parameters: {'fit_intercept': False, 'positive': False, 'copy_X': False, 'n_jobs': 1}. Best is trial 0 with value: 1278104.0105896648.\n",
      "[I 2023-07-26 18:40:19,759] Trial 40 finished with value: 1279203.9077876082 and parameters: {'fit_intercept': True, 'positive': True, 'copy_X': True, 'n_jobs': 4}. Best is trial 0 with value: 1278104.0105896648.\n",
      "[I 2023-07-26 18:40:19,772] Trial 41 finished with value: 1278104.0105896648 and parameters: {'fit_intercept': False, 'positive': False, 'copy_X': True, 'n_jobs': 3}. Best is trial 0 with value: 1278104.0105896648.\n",
      "[I 2023-07-26 18:40:19,787] Trial 42 finished with value: 1278104.0105896648 and parameters: {'fit_intercept': False, 'positive': False, 'copy_X': True, 'n_jobs': 4}. Best is trial 0 with value: 1278104.0105896648.\n",
      "[I 2023-07-26 18:40:19,801] Trial 43 finished with value: 1278104.0105896648 and parameters: {'fit_intercept': False, 'positive': False, 'copy_X': True, 'n_jobs': 3}. Best is trial 0 with value: 1278104.0105896648.\n",
      "[I 2023-07-26 18:40:19,814] Trial 44 finished with value: 1278104.0105896648 and parameters: {'fit_intercept': False, 'positive': False, 'copy_X': True, 'n_jobs': 3}. Best is trial 0 with value: 1278104.0105896648.\n",
      "[I 2023-07-26 18:40:19,828] Trial 45 finished with value: 1278104.0105896648 and parameters: {'fit_intercept': False, 'positive': False, 'copy_X': True, 'n_jobs': 4}. Best is trial 0 with value: 1278104.0105896648.\n",
      "[I 2023-07-26 18:40:19,842] Trial 46 finished with value: 1278104.0105896648 and parameters: {'fit_intercept': False, 'positive': False, 'copy_X': True, 'n_jobs': 2}. Best is trial 0 with value: 1278104.0105896648.\n",
      "[I 2023-07-26 18:40:19,856] Trial 47 finished with value: 1278104.0105896648 and parameters: {'fit_intercept': False, 'positive': False, 'copy_X': True, 'n_jobs': 3}. Best is trial 0 with value: 1278104.0105896648.\n",
      "[I 2023-07-26 18:40:19,871] Trial 48 finished with value: 1278104.0105896648 and parameters: {'fit_intercept': False, 'positive': False, 'copy_X': False, 'n_jobs': 1}. Best is trial 0 with value: 1278104.0105896648.\n",
      "[I 2023-07-26 18:40:19,886] Trial 49 finished with value: 1278104.0105896655 and parameters: {'fit_intercept': True, 'positive': False, 'copy_X': True, 'n_jobs': 2}. Best is trial 0 with value: 1278104.0105896648.\n",
      "[I 2023-07-26 18:40:19,901] Trial 50 finished with value: 1278104.0105896648 and parameters: {'fit_intercept': False, 'positive': False, 'copy_X': True, 'n_jobs': 3}. Best is trial 0 with value: 1278104.0105896648.\n",
      "[I 2023-07-26 18:40:19,916] Trial 51 finished with value: 1278104.0105896648 and parameters: {'fit_intercept': False, 'positive': False, 'copy_X': True, 'n_jobs': 3}. Best is trial 0 with value: 1278104.0105896648.\n",
      "[I 2023-07-26 18:40:19,931] Trial 52 finished with value: 1278104.0105896648 and parameters: {'fit_intercept': False, 'positive': False, 'copy_X': True, 'n_jobs': 3}. Best is trial 0 with value: 1278104.0105896648.\n",
      "[I 2023-07-26 18:40:19,945] Trial 53 finished with value: 1278104.0105896648 and parameters: {'fit_intercept': False, 'positive': False, 'copy_X': True, 'n_jobs': 3}. Best is trial 0 with value: 1278104.0105896648.\n",
      "[I 2023-07-26 18:40:19,960] Trial 54 finished with value: 1278104.0105896648 and parameters: {'fit_intercept': False, 'positive': False, 'copy_X': True, 'n_jobs': 4}. Best is trial 0 with value: 1278104.0105896648.\n",
      "[I 2023-07-26 18:40:19,974] Trial 55 finished with value: 1278104.0105896648 and parameters: {'fit_intercept': False, 'positive': False, 'copy_X': True, 'n_jobs': 2}. Best is trial 0 with value: 1278104.0105896648.\n",
      "[I 2023-07-26 18:40:19,988] Trial 56 finished with value: 1278104.0105896648 and parameters: {'fit_intercept': False, 'positive': False, 'copy_X': True, 'n_jobs': 1}. Best is trial 0 with value: 1278104.0105896648.\n",
      "[I 2023-07-26 18:40:20,003] Trial 57 finished with value: 1278104.0105896648 and parameters: {'fit_intercept': False, 'positive': False, 'copy_X': True, 'n_jobs': 4}. Best is trial 0 with value: 1278104.0105896648.\n",
      "[I 2023-07-26 18:40:20,013] Trial 58 finished with value: 1508584.7015556984 and parameters: {'fit_intercept': False, 'positive': True, 'copy_X': True, 'n_jobs': 3}. Best is trial 0 with value: 1278104.0105896648.\n",
      "[I 2023-07-26 18:40:20,027] Trial 59 finished with value: 1278104.0105896648 and parameters: {'fit_intercept': False, 'positive': False, 'copy_X': False, 'n_jobs': 1}. Best is trial 0 with value: 1278104.0105896648.\n",
      "[I 2023-07-26 18:40:20,042] Trial 60 finished with value: 1278104.0105896655 and parameters: {'fit_intercept': True, 'positive': False, 'copy_X': True, 'n_jobs': 2}. Best is trial 0 with value: 1278104.0105896648.\n",
      "[I 2023-07-26 18:40:20,056] Trial 61 finished with value: 1278104.0105896648 and parameters: {'fit_intercept': False, 'positive': False, 'copy_X': True, 'n_jobs': 2}. Best is trial 0 with value: 1278104.0105896648.\n",
      "[I 2023-07-26 18:40:20,071] Trial 62 finished with value: 1278104.0105896648 and parameters: {'fit_intercept': False, 'positive': False, 'copy_X': True, 'n_jobs': 2}. Best is trial 0 with value: 1278104.0105896648.\n",
      "[I 2023-07-26 18:40:20,086] Trial 63 finished with value: 1278104.0105896648 and parameters: {'fit_intercept': False, 'positive': False, 'copy_X': True, 'n_jobs': 1}. Best is trial 0 with value: 1278104.0105896648.\n",
      "[I 2023-07-26 18:40:20,101] Trial 64 finished with value: 1278104.0105896648 and parameters: {'fit_intercept': False, 'positive': False, 'copy_X': True, 'n_jobs': 2}. Best is trial 0 with value: 1278104.0105896648.\n",
      "[I 2023-07-26 18:40:20,115] Trial 65 finished with value: 1278104.0105896648 and parameters: {'fit_intercept': False, 'positive': False, 'copy_X': True, 'n_jobs': 3}. Best is trial 0 with value: 1278104.0105896648.\n",
      "[I 2023-07-26 18:40:20,129] Trial 66 finished with value: 1278104.0105896648 and parameters: {'fit_intercept': False, 'positive': False, 'copy_X': True, 'n_jobs': 2}. Best is trial 0 with value: 1278104.0105896648.\n",
      "[I 2023-07-26 18:40:20,143] Trial 67 finished with value: 1278104.0105896648 and parameters: {'fit_intercept': False, 'positive': False, 'copy_X': True, 'n_jobs': 1}. Best is trial 0 with value: 1278104.0105896648.\n",
      "[I 2023-07-26 18:40:20,153] Trial 68 finished with value: 1508584.7015556984 and parameters: {'fit_intercept': False, 'positive': True, 'copy_X': True, 'n_jobs': 4}. Best is trial 0 with value: 1278104.0105896648.\n",
      "[I 2023-07-26 18:40:20,168] Trial 69 finished with value: 1278104.0105896648 and parameters: {'fit_intercept': False, 'positive': False, 'copy_X': False, 'n_jobs': 2}. Best is trial 0 with value: 1278104.0105896648.\n",
      "[I 2023-07-26 18:40:20,183] Trial 70 finished with value: 1278104.0105896655 and parameters: {'fit_intercept': True, 'positive': False, 'copy_X': True, 'n_jobs': 1}. Best is trial 0 with value: 1278104.0105896648.\n",
      "[I 2023-07-26 18:40:20,199] Trial 71 finished with value: 1278104.0105896648 and parameters: {'fit_intercept': False, 'positive': False, 'copy_X': True, 'n_jobs': 4}. Best is trial 0 with value: 1278104.0105896648.\n",
      "[I 2023-07-26 18:40:20,215] Trial 72 finished with value: 1278104.0105896648 and parameters: {'fit_intercept': False, 'positive': False, 'copy_X': True, 'n_jobs': 4}. Best is trial 0 with value: 1278104.0105896648.\n",
      "[I 2023-07-26 18:40:20,229] Trial 73 finished with value: 1278104.0105896648 and parameters: {'fit_intercept': False, 'positive': False, 'copy_X': True, 'n_jobs': 4}. Best is trial 0 with value: 1278104.0105896648.\n",
      "[I 2023-07-26 18:40:20,243] Trial 74 finished with value: 1278104.0105896648 and parameters: {'fit_intercept': False, 'positive': False, 'copy_X': True, 'n_jobs': 4}. Best is trial 0 with value: 1278104.0105896648.\n",
      "[I 2023-07-26 18:40:20,258] Trial 75 finished with value: 1278104.0105896648 and parameters: {'fit_intercept': False, 'positive': False, 'copy_X': True, 'n_jobs': 4}. Best is trial 0 with value: 1278104.0105896648.\n",
      "[I 2023-07-26 18:40:20,273] Trial 76 finished with value: 1278104.0105896648 and parameters: {'fit_intercept': False, 'positive': False, 'copy_X': True, 'n_jobs': 3}. Best is trial 0 with value: 1278104.0105896648.\n",
      "[I 2023-07-26 18:40:20,287] Trial 77 finished with value: 1278104.0105896648 and parameters: {'fit_intercept': False, 'positive': False, 'copy_X': True, 'n_jobs': 3}. Best is trial 0 with value: 1278104.0105896648.\n",
      "[I 2023-07-26 18:40:20,297] Trial 78 finished with value: 1508584.7015556984 and parameters: {'fit_intercept': False, 'positive': True, 'copy_X': True, 'n_jobs': 1}. Best is trial 0 with value: 1278104.0105896648.\n",
      "[I 2023-07-26 18:40:20,313] Trial 79 finished with value: 1278104.0105896648 and parameters: {'fit_intercept': False, 'positive': False, 'copy_X': True, 'n_jobs': 4}. Best is trial 0 with value: 1278104.0105896648.\n",
      "[I 2023-07-26 18:40:20,327] Trial 80 finished with value: 1278104.0105896648 and parameters: {'fit_intercept': False, 'positive': False, 'copy_X': False, 'n_jobs': 2}. Best is trial 0 with value: 1278104.0105896648.\n",
      "[I 2023-07-26 18:40:20,344] Trial 81 finished with value: 1278104.0105896648 and parameters: {'fit_intercept': False, 'positive': False, 'copy_X': True, 'n_jobs': 3}. Best is trial 0 with value: 1278104.0105896648.\n",
      "[I 2023-07-26 18:40:20,359] Trial 82 finished with value: 1278104.0105896648 and parameters: {'fit_intercept': False, 'positive': False, 'copy_X': True, 'n_jobs': 3}. Best is trial 0 with value: 1278104.0105896648.\n",
      "[I 2023-07-26 18:40:20,374] Trial 83 finished with value: 1278104.0105896648 and parameters: {'fit_intercept': False, 'positive': False, 'copy_X': True, 'n_jobs': 3}. Best is trial 0 with value: 1278104.0105896648.\n",
      "[I 2023-07-26 18:40:20,389] Trial 84 finished with value: 1278104.0105896648 and parameters: {'fit_intercept': False, 'positive': False, 'copy_X': True, 'n_jobs': 3}. Best is trial 0 with value: 1278104.0105896648.\n",
      "[I 2023-07-26 18:40:20,404] Trial 85 finished with value: 1278104.0105896655 and parameters: {'fit_intercept': True, 'positive': False, 'copy_X': True, 'n_jobs': 3}. Best is trial 0 with value: 1278104.0105896648.\n",
      "[I 2023-07-26 18:40:20,419] Trial 86 finished with value: 1278104.0105896648 and parameters: {'fit_intercept': False, 'positive': False, 'copy_X': True, 'n_jobs': 1}. Best is trial 0 with value: 1278104.0105896648.\n",
      "[I 2023-07-26 18:40:20,434] Trial 87 finished with value: 1278104.0105896648 and parameters: {'fit_intercept': False, 'positive': False, 'copy_X': True, 'n_jobs': 3}. Best is trial 0 with value: 1278104.0105896648.\n",
      "[I 2023-07-26 18:40:20,449] Trial 88 finished with value: 1278104.0105896648 and parameters: {'fit_intercept': False, 'positive': False, 'copy_X': True, 'n_jobs': 2}. Best is trial 0 with value: 1278104.0105896648.\n",
      "[I 2023-07-26 18:40:20,460] Trial 89 finished with value: 1508584.7015556984 and parameters: {'fit_intercept': False, 'positive': True, 'copy_X': True, 'n_jobs': 4}. Best is trial 0 with value: 1278104.0105896648.\n",
      "[I 2023-07-26 18:40:20,475] Trial 90 finished with value: 1278104.0105896648 and parameters: {'fit_intercept': False, 'positive': False, 'copy_X': True, 'n_jobs': 3}. Best is trial 0 with value: 1278104.0105896648.\n",
      "[I 2023-07-26 18:40:20,490] Trial 91 finished with value: 1278104.0105896648 and parameters: {'fit_intercept': False, 'positive': False, 'copy_X': True, 'n_jobs': 2}. Best is trial 0 with value: 1278104.0105896648.\n",
      "[I 2023-07-26 18:40:20,505] Trial 92 finished with value: 1278104.0105896648 and parameters: {'fit_intercept': False, 'positive': False, 'copy_X': True, 'n_jobs': 2}. Best is trial 0 with value: 1278104.0105896648.\n",
      "[I 2023-07-26 18:40:20,520] Trial 93 finished with value: 1278104.0105896648 and parameters: {'fit_intercept': False, 'positive': False, 'copy_X': True, 'n_jobs': 2}. Best is trial 0 with value: 1278104.0105896648.\n",
      "[I 2023-07-26 18:40:20,535] Trial 94 finished with value: 1278104.0105896648 and parameters: {'fit_intercept': False, 'positive': False, 'copy_X': True, 'n_jobs': 2}. Best is trial 0 with value: 1278104.0105896648.\n",
      "[I 2023-07-26 18:40:20,551] Trial 95 finished with value: 1278104.0105896648 and parameters: {'fit_intercept': False, 'positive': False, 'copy_X': True, 'n_jobs': 1}. Best is trial 0 with value: 1278104.0105896648.\n",
      "[I 2023-07-26 18:40:20,566] Trial 96 finished with value: 1278104.0105896648 and parameters: {'fit_intercept': False, 'positive': False, 'copy_X': False, 'n_jobs': 2}. Best is trial 0 with value: 1278104.0105896648.\n",
      "[I 2023-07-26 18:40:20,581] Trial 97 finished with value: 1278104.0105896655 and parameters: {'fit_intercept': True, 'positive': False, 'copy_X': True, 'n_jobs': 1}. Best is trial 0 with value: 1278104.0105896648.\n",
      "[I 2023-07-26 18:40:20,597] Trial 98 finished with value: 1278104.0105896648 and parameters: {'fit_intercept': False, 'positive': False, 'copy_X': True, 'n_jobs': 3}. Best is trial 0 with value: 1278104.0105896648.\n",
      "[I 2023-07-26 18:40:20,612] Trial 99 finished with value: 1278104.0105896648 and parameters: {'fit_intercept': False, 'positive': False, 'copy_X': True, 'n_jobs': 4}. Best is trial 0 with value: 1278104.0105896648.\n"
     ]
    }
   ],
   "source": [
    "# Fix the random seed\n",
    "seed = 28\n",
    "np.random.seed(seed)\n",
    "\n",
    "# Run optimization\n",
    "best_params, best_score = optimize_linear_regression()"
   ]
  },
  {
   "cell_type": "code",
   "execution_count": 10,
   "metadata": {},
   "outputs": [
    {
     "name": "stdout",
     "output_type": "stream",
     "text": [
      "Best params for Linear Regression: {'fit_intercept': False, 'positive': False, 'copy_X': True, 'n_jobs': 1} \n",
      "MSE = 1278104.0105896648\n"
     ]
    }
   ],
   "source": [
    "print(f\"Best params for Linear Regression: {best_params}\", \n",
    "      f\"\\nMSE = {best_score}\")"
   ]
  }
 ],
 "metadata": {
  "kernelspec": {
   "display_name": "env",
   "language": "python",
   "name": "python3"
  },
  "language_info": {
   "codemirror_mode": {
    "name": "ipython",
    "version": 3
   },
   "file_extension": ".py",
   "mimetype": "text/x-python",
   "name": "python",
   "nbconvert_exporter": "python",
   "pygments_lexer": "ipython3",
   "version": "3.9.13"
  },
  "orig_nbformat": 4
 },
 "nbformat": 4,
 "nbformat_minor": 2
}
