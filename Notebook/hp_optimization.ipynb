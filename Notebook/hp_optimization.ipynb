{
 "cells": [
  {
   "cell_type": "code",
   "execution_count": 1,
   "metadata": {},
   "outputs": [
    {
     "name": "stderr",
     "output_type": "stream",
     "text": [
      "/Users/federicoglancszpigel/Desktop/AM2-TP-final/env/lib/python3.9/site-packages/tqdm/auto.py:21: TqdmWarning: IProgress not found. Please update jupyter and ipywidgets. See https://ipywidgets.readthedocs.io/en/stable/user_install.html\n",
      "  from .autonotebook import tqdm as notebook_tqdm\n"
     ]
    }
   ],
   "source": [
    "# Package imports\n",
    "import os\n",
    "import sys\n",
    "import pandas as pd\n",
    "import numpy as np\n",
    "import optuna\n",
    "from sklearn.linear_model import LinearRegression\n",
    "from sklearn.model_selection import train_test_split\n",
    "from sklearn.metrics import mean_squared_error\n",
    "\n",
    "# Local imports\n",
    "root_path = os.path.dirname(os.getcwd())\n",
    "src_path = os.path.join(root_path, \"src\")\n",
    "sys.path.append(src_path)\n",
    "from feature_engineering import FeatureEngineeringPipeline"
   ]
  },
  {
   "cell_type": "code",
   "execution_count": 2,
   "metadata": {},
   "outputs": [
    {
     "name": "stderr",
     "output_type": "stream",
     "text": [
      "2023-07-27 08:17:49 - DEBUG -FeatureEngineering- data was read succesfully.\n",
      "2023-07-27 08:17:49 - DEBUG -FeatureEngineering- establishment years were corrected.\n",
      "2023-07-27 08:17:50 - DEBUG -FeatureEngineering- missing Item_Weight was cleaned.\n",
      "2023-07-27 08:17:50 - DEBUG -FeatureEngineering- missing Outlet_Size was cleaned.\n",
      "2023-07-27 08:17:50 - DEBUG -FeatureEngineering- product prices were embedded.\n",
      "2023-07-27 08:17:50 - DEBUG -FeatureEngineering- ordinal variables were embedded.\n",
      "2023-07-27 08:17:50 - DEBUG -FeatureEngineering- nominal variables were embedded.\n",
      "2023-07-27 08:17:50 - DEBUG -FeatureEngineering- columns removed.\n",
      "2023-07-27 08:17:50 - DEBUG -FeatureEngineering- data was saved sucesfully.\n"
     ]
    }
   ],
   "source": [
    "# Run feature engineering pipeline\n",
    "fe_pipeline = FeatureEngineeringPipeline(os.path.join(root_path, \"data\"))\n",
    "fe_pipeline.run(\"Train_BigMart.csv\", \"transformed_data.csv\", is_train=True)"
   ]
  },
  {
   "cell_type": "code",
   "execution_count": 3,
   "metadata": {},
   "outputs": [],
   "source": [
    "# Import transformed data\n",
    "data = pd.read_csv(os.path.join(root_path, \"data\", \"transformed_data.csv\"), index_col=0)"
   ]
  },
  {
   "cell_type": "code",
   "execution_count": 4,
   "metadata": {},
   "outputs": [],
   "source": [
    "# Train-validation split\n",
    "X = data.drop(columns=[\"Item_Outlet_Sales\"])\n",
    "y = data[\"Item_Outlet_Sales\"]\n",
    "X_train, X_val, y_train, y_val = train_test_split(X, y, test_size=0.2, random_state=28)\n",
    "\n",
    "# Define the functions for optimizing HPs with optuna\n",
    "def objective(trial):\n",
    "    # Define the hyperparameters to tune \n",
    "    fit_intercept = trial.suggest_categorical('fit_intercept', [True, False])\n",
    "    positive = trial.suggest_categorical('positive', [True, False])\n",
    "    copy_X = trial.suggest_categorical('copy_X', [True, False])\n",
    "    n_jobs = trial.suggest_int('n_jobs', 1, 4)\n",
    "\n",
    "    # Create a Linear Regression model with the suggested hyperparameters\n",
    "    model = LinearRegression(\n",
    "        fit_intercept=fit_intercept,\n",
    "        positive=positive,\n",
    "        copy_X=copy_X,\n",
    "        n_jobs=n_jobs\n",
    "    )\n",
    "\n",
    "    # Train the model on the training data\n",
    "    model.fit(X_train, y_train)\n",
    "\n",
    "    # Predict on the validation data\n",
    "    y_pred = model.predict(X_val)\n",
    "\n",
    "    # Calculate the mean squared error as the objective to minimize\n",
    "    mse = mean_squared_error(y_val, y_pred)\n",
    "    return mse\n",
    "\n",
    "def optimize_linear_regression():\n",
    "    # Create a study object and optimize the objective function\n",
    "    study = optuna.create_study(direction='minimize')\n",
    "    study.optimize(objective, n_trials=100)\n",
    "\n",
    "    # Get the best hyperparameters\n",
    "    best_params = study.best_params\n",
    "\n",
    "    # Get best value\n",
    "    best_score = study.best_trial.value\n",
    "    \n",
    "    return best_params, best_score"
   ]
  },
  {
   "cell_type": "code",
   "execution_count": 5,
   "metadata": {},
   "outputs": [
    {
     "name": "stderr",
     "output_type": "stream",
     "text": [
      "[I 2023-07-27 08:18:11,474] A new study created in memory with name: no-name-250950cb-2b15-42f8-84ae-abfe061e7c10\n",
      "[I 2023-07-27 08:18:11,491] Trial 0 finished with value: 1278104.010589665 and parameters: {'fit_intercept': False, 'positive': False, 'copy_X': True, 'n_jobs': 1}. Best is trial 0 with value: 1278104.010589665.\n",
      "[I 2023-07-27 08:18:11,501] Trial 1 finished with value: 1278104.010589666 and parameters: {'fit_intercept': True, 'positive': False, 'copy_X': False, 'n_jobs': 3}. Best is trial 0 with value: 1278104.010589665.\n",
      "[I 2023-07-27 08:18:11,512] Trial 2 finished with value: 1278104.010589666 and parameters: {'fit_intercept': True, 'positive': False, 'copy_X': True, 'n_jobs': 3}. Best is trial 0 with value: 1278104.010589665.\n",
      "[I 2023-07-27 08:18:11,517] Trial 3 finished with value: 1508584.7015556984 and parameters: {'fit_intercept': False, 'positive': True, 'copy_X': False, 'n_jobs': 2}. Best is trial 0 with value: 1278104.010589665.\n",
      "[I 2023-07-27 08:18:11,522] Trial 4 finished with value: 1508584.7015556984 and parameters: {'fit_intercept': False, 'positive': True, 'copy_X': True, 'n_jobs': 4}. Best is trial 0 with value: 1278104.010589665.\n",
      "[I 2023-07-27 08:18:11,530] Trial 5 finished with value: 1278104.010589666 and parameters: {'fit_intercept': True, 'positive': False, 'copy_X': False, 'n_jobs': 4}. Best is trial 0 with value: 1278104.010589665.\n",
      "[I 2023-07-27 08:18:11,535] Trial 6 finished with value: 1508584.7015556984 and parameters: {'fit_intercept': False, 'positive': True, 'copy_X': True, 'n_jobs': 1}. Best is trial 0 with value: 1278104.010589665.\n",
      "[I 2023-07-27 08:18:11,543] Trial 7 finished with value: 1278104.010589666 and parameters: {'fit_intercept': True, 'positive': False, 'copy_X': True, 'n_jobs': 4}. Best is trial 0 with value: 1278104.010589665.\n",
      "[I 2023-07-27 08:18:11,552] Trial 8 finished with value: 1278104.010589665 and parameters: {'fit_intercept': False, 'positive': False, 'copy_X': False, 'n_jobs': 1}. Best is trial 0 with value: 1278104.010589665.\n",
      "[I 2023-07-27 08:18:11,560] Trial 9 finished with value: 1278104.010589666 and parameters: {'fit_intercept': True, 'positive': False, 'copy_X': False, 'n_jobs': 1}. Best is trial 0 with value: 1278104.010589665.\n",
      "[I 2023-07-27 08:18:11,613] Trial 10 finished with value: 1508584.7015556984 and parameters: {'fit_intercept': False, 'positive': True, 'copy_X': True, 'n_jobs': 2}. Best is trial 0 with value: 1278104.010589665.\n",
      "[I 2023-07-27 08:18:11,626] Trial 11 finished with value: 1278104.010589665 and parameters: {'fit_intercept': False, 'positive': False, 'copy_X': False, 'n_jobs': 1}. Best is trial 0 with value: 1278104.010589665.\n",
      "[I 2023-07-27 08:18:11,639] Trial 12 finished with value: 1278104.010589665 and parameters: {'fit_intercept': False, 'positive': False, 'copy_X': True, 'n_jobs': 2}. Best is trial 0 with value: 1278104.010589665.\n",
      "[I 2023-07-27 08:18:11,652] Trial 13 finished with value: 1278104.010589665 and parameters: {'fit_intercept': False, 'positive': False, 'copy_X': False, 'n_jobs': 1}. Best is trial 0 with value: 1278104.010589665.\n",
      "[I 2023-07-27 08:18:11,666] Trial 14 finished with value: 1278104.010589665 and parameters: {'fit_intercept': False, 'positive': False, 'copy_X': True, 'n_jobs': 2}. Best is trial 0 with value: 1278104.010589665.\n",
      "[I 2023-07-27 08:18:11,678] Trial 15 finished with value: 1278104.010589665 and parameters: {'fit_intercept': False, 'positive': False, 'copy_X': False, 'n_jobs': 1}. Best is trial 0 with value: 1278104.010589665.\n",
      "[I 2023-07-27 08:18:11,692] Trial 16 finished with value: 1278104.010589665 and parameters: {'fit_intercept': False, 'positive': False, 'copy_X': False, 'n_jobs': 1}. Best is trial 0 with value: 1278104.010589665.\n",
      "[I 2023-07-27 08:18:11,705] Trial 17 finished with value: 1278104.010589665 and parameters: {'fit_intercept': False, 'positive': False, 'copy_X': True, 'n_jobs': 3}. Best is trial 0 with value: 1278104.010589665.\n",
      "[I 2023-07-27 08:18:11,714] Trial 18 finished with value: 1508584.7015556984 and parameters: {'fit_intercept': False, 'positive': True, 'copy_X': False, 'n_jobs': 2}. Best is trial 0 with value: 1278104.010589665.\n",
      "[I 2023-07-27 08:18:11,728] Trial 19 finished with value: 1278104.010589665 and parameters: {'fit_intercept': False, 'positive': False, 'copy_X': True, 'n_jobs': 1}. Best is trial 0 with value: 1278104.010589665.\n",
      "[I 2023-07-27 08:18:11,742] Trial 20 finished with value: 1278104.010589665 and parameters: {'fit_intercept': False, 'positive': False, 'copy_X': False, 'n_jobs': 2}. Best is trial 0 with value: 1278104.010589665.\n",
      "[I 2023-07-27 08:18:11,756] Trial 21 finished with value: 1278104.010589665 and parameters: {'fit_intercept': False, 'positive': False, 'copy_X': False, 'n_jobs': 1}. Best is trial 0 with value: 1278104.010589665.\n",
      "[I 2023-07-27 08:18:11,770] Trial 22 finished with value: 1278104.010589665 and parameters: {'fit_intercept': False, 'positive': False, 'copy_X': False, 'n_jobs': 1}. Best is trial 0 with value: 1278104.010589665.\n",
      "[I 2023-07-27 08:18:11,783] Trial 23 finished with value: 1278104.010589665 and parameters: {'fit_intercept': False, 'positive': False, 'copy_X': False, 'n_jobs': 1}. Best is trial 0 with value: 1278104.010589665.\n",
      "[I 2023-07-27 08:18:11,796] Trial 24 finished with value: 1278104.010589665 and parameters: {'fit_intercept': False, 'positive': False, 'copy_X': False, 'n_jobs': 1}. Best is trial 0 with value: 1278104.010589665.\n",
      "[I 2023-07-27 08:18:11,809] Trial 25 finished with value: 1278104.010589665 and parameters: {'fit_intercept': False, 'positive': False, 'copy_X': False, 'n_jobs': 2}. Best is trial 0 with value: 1278104.010589665.\n",
      "[I 2023-07-27 08:18:11,819] Trial 26 finished with value: 1279203.9077876082 and parameters: {'fit_intercept': True, 'positive': True, 'copy_X': True, 'n_jobs': 1}. Best is trial 0 with value: 1278104.010589665.\n",
      "[I 2023-07-27 08:18:11,833] Trial 27 finished with value: 1278104.010589665 and parameters: {'fit_intercept': False, 'positive': False, 'copy_X': False, 'n_jobs': 2}. Best is trial 0 with value: 1278104.010589665.\n",
      "[I 2023-07-27 08:18:11,847] Trial 28 finished with value: 1278104.010589665 and parameters: {'fit_intercept': False, 'positive': False, 'copy_X': True, 'n_jobs': 1}. Best is trial 0 with value: 1278104.010589665.\n",
      "[I 2023-07-27 08:18:11,860] Trial 29 finished with value: 1278104.010589666 and parameters: {'fit_intercept': True, 'positive': False, 'copy_X': False, 'n_jobs': 3}. Best is trial 0 with value: 1278104.010589665.\n",
      "[I 2023-07-27 08:18:11,874] Trial 30 finished with value: 1278104.010589665 and parameters: {'fit_intercept': False, 'positive': False, 'copy_X': False, 'n_jobs': 1}. Best is trial 0 with value: 1278104.010589665.\n",
      "[I 2023-07-27 08:18:11,888] Trial 31 finished with value: 1278104.010589665 and parameters: {'fit_intercept': False, 'positive': False, 'copy_X': True, 'n_jobs': 2}. Best is trial 0 with value: 1278104.010589665.\n",
      "[I 2023-07-27 08:18:11,902] Trial 32 finished with value: 1278104.010589665 and parameters: {'fit_intercept': False, 'positive': False, 'copy_X': True, 'n_jobs': 2}. Best is trial 0 with value: 1278104.010589665.\n",
      "[I 2023-07-27 08:18:11,915] Trial 33 finished with value: 1278104.010589665 and parameters: {'fit_intercept': False, 'positive': False, 'copy_X': True, 'n_jobs': 3}. Best is trial 0 with value: 1278104.010589665.\n",
      "[I 2023-07-27 08:18:11,928] Trial 34 finished with value: 1278104.010589665 and parameters: {'fit_intercept': False, 'positive': False, 'copy_X': True, 'n_jobs': 1}. Best is trial 0 with value: 1278104.010589665.\n",
      "[I 2023-07-27 08:18:11,937] Trial 35 finished with value: 1279203.9077876082 and parameters: {'fit_intercept': True, 'positive': True, 'copy_X': True, 'n_jobs': 2}. Best is trial 0 with value: 1278104.010589665.\n",
      "[I 2023-07-27 08:18:11,950] Trial 36 finished with value: 1278104.010589665 and parameters: {'fit_intercept': False, 'positive': False, 'copy_X': True, 'n_jobs': 1}. Best is trial 0 with value: 1278104.010589665.\n",
      "[I 2023-07-27 08:18:11,963] Trial 37 finished with value: 1278104.010589665 and parameters: {'fit_intercept': False, 'positive': False, 'copy_X': True, 'n_jobs': 2}. Best is trial 0 with value: 1278104.010589665.\n",
      "[I 2023-07-27 08:18:11,973] Trial 38 finished with value: 1279203.9077876082 and parameters: {'fit_intercept': True, 'positive': True, 'copy_X': False, 'n_jobs': 4}. Best is trial 0 with value: 1278104.010589665.\n",
      "[I 2023-07-27 08:18:11,986] Trial 39 finished with value: 1278104.010589665 and parameters: {'fit_intercept': False, 'positive': False, 'copy_X': True, 'n_jobs': 1}. Best is trial 0 with value: 1278104.010589665.\n",
      "[I 2023-07-27 08:18:11,999] Trial 40 finished with value: 1278104.010589665 and parameters: {'fit_intercept': False, 'positive': False, 'copy_X': False, 'n_jobs': 3}. Best is trial 0 with value: 1278104.010589665.\n",
      "[I 2023-07-27 08:18:12,012] Trial 41 finished with value: 1278104.010589665 and parameters: {'fit_intercept': False, 'positive': False, 'copy_X': False, 'n_jobs': 1}. Best is trial 0 with value: 1278104.010589665.\n",
      "[I 2023-07-27 08:18:12,025] Trial 42 finished with value: 1278104.010589665 and parameters: {'fit_intercept': False, 'positive': False, 'copy_X': False, 'n_jobs': 1}. Best is trial 0 with value: 1278104.010589665.\n",
      "[I 2023-07-27 08:18:12,038] Trial 43 finished with value: 1278104.010589665 and parameters: {'fit_intercept': False, 'positive': False, 'copy_X': False, 'n_jobs': 1}. Best is trial 0 with value: 1278104.010589665.\n",
      "[I 2023-07-27 08:18:12,051] Trial 44 finished with value: 1278104.010589665 and parameters: {'fit_intercept': False, 'positive': False, 'copy_X': False, 'n_jobs': 1}. Best is trial 0 with value: 1278104.010589665.\n",
      "[I 2023-07-27 08:18:12,060] Trial 45 finished with value: 1508584.7015556984 and parameters: {'fit_intercept': False, 'positive': True, 'copy_X': False, 'n_jobs': 1}. Best is trial 0 with value: 1278104.010589665.\n",
      "[I 2023-07-27 08:18:12,073] Trial 46 finished with value: 1278104.010589666 and parameters: {'fit_intercept': True, 'positive': False, 'copy_X': True, 'n_jobs': 2}. Best is trial 0 with value: 1278104.010589665.\n",
      "[I 2023-07-27 08:18:12,086] Trial 47 finished with value: 1278104.010589665 and parameters: {'fit_intercept': False, 'positive': False, 'copy_X': False, 'n_jobs': 1}. Best is trial 0 with value: 1278104.010589665.\n",
      "[I 2023-07-27 08:18:12,099] Trial 48 finished with value: 1278104.010589665 and parameters: {'fit_intercept': False, 'positive': False, 'copy_X': True, 'n_jobs': 1}. Best is trial 0 with value: 1278104.010589665.\n",
      "[I 2023-07-27 08:18:12,113] Trial 49 finished with value: 1278104.010589665 and parameters: {'fit_intercept': False, 'positive': False, 'copy_X': False, 'n_jobs': 2}. Best is trial 0 with value: 1278104.010589665.\n",
      "[I 2023-07-27 08:18:12,122] Trial 50 finished with value: 1508584.7015556984 and parameters: {'fit_intercept': False, 'positive': True, 'copy_X': True, 'n_jobs': 4}. Best is trial 0 with value: 1278104.010589665.\n",
      "[I 2023-07-27 08:18:12,136] Trial 51 finished with value: 1278104.010589665 and parameters: {'fit_intercept': False, 'positive': False, 'copy_X': True, 'n_jobs': 2}. Best is trial 0 with value: 1278104.010589665.\n",
      "[I 2023-07-27 08:18:12,149] Trial 52 finished with value: 1278104.010589665 and parameters: {'fit_intercept': False, 'positive': False, 'copy_X': True, 'n_jobs': 2}. Best is trial 0 with value: 1278104.010589665.\n",
      "[I 2023-07-27 08:18:12,163] Trial 53 finished with value: 1278104.010589665 and parameters: {'fit_intercept': False, 'positive': False, 'copy_X': True, 'n_jobs': 1}. Best is trial 0 with value: 1278104.010589665.\n",
      "[I 2023-07-27 08:18:12,176] Trial 54 finished with value: 1278104.010589665 and parameters: {'fit_intercept': False, 'positive': False, 'copy_X': True, 'n_jobs': 2}. Best is trial 0 with value: 1278104.010589665.\n",
      "[I 2023-07-27 08:18:12,190] Trial 55 finished with value: 1278104.010589665 and parameters: {'fit_intercept': False, 'positive': False, 'copy_X': False, 'n_jobs': 1}. Best is trial 0 with value: 1278104.010589665.\n",
      "[I 2023-07-27 08:18:12,205] Trial 56 finished with value: 1278104.010589665 and parameters: {'fit_intercept': False, 'positive': False, 'copy_X': True, 'n_jobs': 1}. Best is trial 0 with value: 1278104.010589665.\n",
      "[I 2023-07-27 08:18:12,219] Trial 57 finished with value: 1278104.010589666 and parameters: {'fit_intercept': True, 'positive': False, 'copy_X': False, 'n_jobs': 2}. Best is trial 0 with value: 1278104.010589665.\n",
      "[I 2023-07-27 08:18:12,234] Trial 58 finished with value: 1278104.010589665 and parameters: {'fit_intercept': False, 'positive': False, 'copy_X': False, 'n_jobs': 3}. Best is trial 0 with value: 1278104.010589665.\n",
      "[I 2023-07-27 08:18:12,249] Trial 59 finished with value: 1278104.010589665 and parameters: {'fit_intercept': False, 'positive': False, 'copy_X': True, 'n_jobs': 1}. Best is trial 0 with value: 1278104.010589665.\n",
      "[I 2023-07-27 08:18:12,264] Trial 60 finished with value: 1278104.010589665 and parameters: {'fit_intercept': False, 'positive': False, 'copy_X': False, 'n_jobs': 2}. Best is trial 0 with value: 1278104.010589665.\n",
      "[I 2023-07-27 08:18:12,278] Trial 61 finished with value: 1278104.010589665 and parameters: {'fit_intercept': False, 'positive': False, 'copy_X': False, 'n_jobs': 1}. Best is trial 0 with value: 1278104.010589665.\n",
      "[I 2023-07-27 08:18:12,292] Trial 62 finished with value: 1278104.010589665 and parameters: {'fit_intercept': False, 'positive': False, 'copy_X': False, 'n_jobs': 1}. Best is trial 0 with value: 1278104.010589665.\n",
      "[I 2023-07-27 08:18:12,306] Trial 63 finished with value: 1278104.010589665 and parameters: {'fit_intercept': False, 'positive': False, 'copy_X': False, 'n_jobs': 1}. Best is trial 0 with value: 1278104.010589665.\n",
      "[I 2023-07-27 08:18:12,321] Trial 64 finished with value: 1278104.010589665 and parameters: {'fit_intercept': False, 'positive': False, 'copy_X': False, 'n_jobs': 1}. Best is trial 0 with value: 1278104.010589665.\n",
      "[I 2023-07-27 08:18:12,335] Trial 65 finished with value: 1278104.010589665 and parameters: {'fit_intercept': False, 'positive': False, 'copy_X': False, 'n_jobs': 1}. Best is trial 0 with value: 1278104.010589665.\n",
      "[I 2023-07-27 08:18:12,346] Trial 66 finished with value: 1508584.7015556984 and parameters: {'fit_intercept': False, 'positive': True, 'copy_X': True, 'n_jobs': 1}. Best is trial 0 with value: 1278104.010589665.\n",
      "[I 2023-07-27 08:18:12,361] Trial 67 finished with value: 1278104.010589666 and parameters: {'fit_intercept': True, 'positive': False, 'copy_X': True, 'n_jobs': 2}. Best is trial 0 with value: 1278104.010589665.\n",
      "[I 2023-07-27 08:18:12,376] Trial 68 finished with value: 1278104.010589665 and parameters: {'fit_intercept': False, 'positive': False, 'copy_X': False, 'n_jobs': 1}. Best is trial 0 with value: 1278104.010589665.\n",
      "[I 2023-07-27 08:18:12,390] Trial 69 finished with value: 1278104.010589665 and parameters: {'fit_intercept': False, 'positive': False, 'copy_X': False, 'n_jobs': 3}. Best is trial 0 with value: 1278104.010589665.\n",
      "[I 2023-07-27 08:18:12,405] Trial 70 finished with value: 1278104.010589665 and parameters: {'fit_intercept': False, 'positive': False, 'copy_X': True, 'n_jobs': 1}. Best is trial 0 with value: 1278104.010589665.\n",
      "[I 2023-07-27 08:18:12,420] Trial 71 finished with value: 1278104.010589665 and parameters: {'fit_intercept': False, 'positive': False, 'copy_X': False, 'n_jobs': 1}. Best is trial 0 with value: 1278104.010589665.\n",
      "[I 2023-07-27 08:18:12,434] Trial 72 finished with value: 1278104.010589665 and parameters: {'fit_intercept': False, 'positive': False, 'copy_X': False, 'n_jobs': 1}. Best is trial 0 with value: 1278104.010589665.\n",
      "[I 2023-07-27 08:18:12,448] Trial 73 finished with value: 1278104.010589665 and parameters: {'fit_intercept': False, 'positive': False, 'copy_X': False, 'n_jobs': 1}. Best is trial 0 with value: 1278104.010589665.\n",
      "[I 2023-07-27 08:18:12,481] Trial 74 finished with value: 1278104.010589665 and parameters: {'fit_intercept': False, 'positive': False, 'copy_X': False, 'n_jobs': 1}. Best is trial 0 with value: 1278104.010589665.\n",
      "[I 2023-07-27 08:18:12,501] Trial 75 finished with value: 1278104.010589665 and parameters: {'fit_intercept': False, 'positive': False, 'copy_X': False, 'n_jobs': 1}. Best is trial 0 with value: 1278104.010589665.\n",
      "[I 2023-07-27 08:18:12,512] Trial 76 finished with value: 1508584.7015556984 and parameters: {'fit_intercept': False, 'positive': True, 'copy_X': False, 'n_jobs': 1}. Best is trial 0 with value: 1278104.010589665.\n",
      "[I 2023-07-27 08:18:12,526] Trial 77 finished with value: 1278104.010589665 and parameters: {'fit_intercept': False, 'positive': False, 'copy_X': True, 'n_jobs': 2}. Best is trial 0 with value: 1278104.010589665.\n",
      "[I 2023-07-27 08:18:12,541] Trial 78 finished with value: 1278104.010589666 and parameters: {'fit_intercept': True, 'positive': False, 'copy_X': False, 'n_jobs': 1}. Best is trial 0 with value: 1278104.010589665.\n",
      "[I 2023-07-27 08:18:12,555] Trial 79 finished with value: 1278104.010589665 and parameters: {'fit_intercept': False, 'positive': False, 'copy_X': True, 'n_jobs': 1}. Best is trial 0 with value: 1278104.010589665.\n",
      "[I 2023-07-27 08:18:12,570] Trial 80 finished with value: 1278104.010589665 and parameters: {'fit_intercept': False, 'positive': False, 'copy_X': False, 'n_jobs': 2}. Best is trial 0 with value: 1278104.010589665.\n",
      "[I 2023-07-27 08:18:12,584] Trial 81 finished with value: 1278104.010589665 and parameters: {'fit_intercept': False, 'positive': False, 'copy_X': True, 'n_jobs': 3}. Best is trial 0 with value: 1278104.010589665.\n",
      "[I 2023-07-27 08:18:12,600] Trial 82 finished with value: 1278104.010589665 and parameters: {'fit_intercept': False, 'positive': False, 'copy_X': True, 'n_jobs': 3}. Best is trial 0 with value: 1278104.010589665.\n",
      "[I 2023-07-27 08:18:12,615] Trial 83 finished with value: 1278104.010589665 and parameters: {'fit_intercept': False, 'positive': False, 'copy_X': True, 'n_jobs': 4}. Best is trial 0 with value: 1278104.010589665.\n",
      "[I 2023-07-27 08:18:12,631] Trial 84 finished with value: 1278104.010589665 and parameters: {'fit_intercept': False, 'positive': False, 'copy_X': True, 'n_jobs': 3}. Best is trial 0 with value: 1278104.010589665.\n",
      "[I 2023-07-27 08:18:12,645] Trial 85 finished with value: 1278104.010589665 and parameters: {'fit_intercept': False, 'positive': False, 'copy_X': True, 'n_jobs': 3}. Best is trial 0 with value: 1278104.010589665.\n",
      "[I 2023-07-27 08:18:12,656] Trial 86 finished with value: 1508584.7015556984 and parameters: {'fit_intercept': False, 'positive': True, 'copy_X': True, 'n_jobs': 1}. Best is trial 0 with value: 1278104.010589665.\n",
      "[I 2023-07-27 08:18:12,670] Trial 87 finished with value: 1278104.010589665 and parameters: {'fit_intercept': False, 'positive': False, 'copy_X': False, 'n_jobs': 2}. Best is trial 0 with value: 1278104.010589665.\n",
      "[I 2023-07-27 08:18:12,684] Trial 88 finished with value: 1278104.010589665 and parameters: {'fit_intercept': False, 'positive': False, 'copy_X': True, 'n_jobs': 3}. Best is trial 0 with value: 1278104.010589665.\n",
      "[I 2023-07-27 08:18:12,699] Trial 89 finished with value: 1278104.010589666 and parameters: {'fit_intercept': True, 'positive': False, 'copy_X': False, 'n_jobs': 1}. Best is trial 0 with value: 1278104.010589665.\n",
      "[I 2023-07-27 08:18:12,713] Trial 90 finished with value: 1278104.010589665 and parameters: {'fit_intercept': False, 'positive': False, 'copy_X': True, 'n_jobs': 1}. Best is trial 0 with value: 1278104.010589665.\n",
      "[I 2023-07-27 08:18:12,728] Trial 91 finished with value: 1278104.010589665 and parameters: {'fit_intercept': False, 'positive': False, 'copy_X': True, 'n_jobs': 1}. Best is trial 0 with value: 1278104.010589665.\n",
      "[I 2023-07-27 08:18:12,742] Trial 92 finished with value: 1278104.010589665 and parameters: {'fit_intercept': False, 'positive': False, 'copy_X': True, 'n_jobs': 1}. Best is trial 0 with value: 1278104.010589665.\n",
      "[I 2023-07-27 08:18:12,756] Trial 93 finished with value: 1278104.010589665 and parameters: {'fit_intercept': False, 'positive': False, 'copy_X': True, 'n_jobs': 1}. Best is trial 0 with value: 1278104.010589665.\n",
      "[I 2023-07-27 08:18:12,770] Trial 94 finished with value: 1278104.010589665 and parameters: {'fit_intercept': False, 'positive': False, 'copy_X': True, 'n_jobs': 1}. Best is trial 0 with value: 1278104.010589665.\n",
      "[I 2023-07-27 08:18:12,784] Trial 95 finished with value: 1278104.010589665 and parameters: {'fit_intercept': False, 'positive': False, 'copy_X': False, 'n_jobs': 1}. Best is trial 0 with value: 1278104.010589665.\n",
      "[I 2023-07-27 08:18:12,799] Trial 96 finished with value: 1278104.010589665 and parameters: {'fit_intercept': False, 'positive': False, 'copy_X': True, 'n_jobs': 1}. Best is trial 0 with value: 1278104.010589665.\n",
      "[I 2023-07-27 08:18:12,813] Trial 97 finished with value: 1278104.010589665 and parameters: {'fit_intercept': False, 'positive': False, 'copy_X': False, 'n_jobs': 2}. Best is trial 0 with value: 1278104.010589665.\n",
      "[I 2023-07-27 08:18:12,828] Trial 98 finished with value: 1278104.010589665 and parameters: {'fit_intercept': False, 'positive': False, 'copy_X': True, 'n_jobs': 1}. Best is trial 0 with value: 1278104.010589665.\n",
      "[I 2023-07-27 08:18:12,839] Trial 99 finished with value: 1508584.7015556984 and parameters: {'fit_intercept': False, 'positive': True, 'copy_X': False, 'n_jobs': 1}. Best is trial 0 with value: 1278104.010589665.\n"
     ]
    }
   ],
   "source": [
    "# Fix the random seed\n",
    "seed = 28\n",
    "np.random.seed(seed)\n",
    "\n",
    "# Run optimization\n",
    "best_params, best_score = optimize_linear_regression()"
   ]
  },
  {
   "cell_type": "code",
   "execution_count": 6,
   "metadata": {},
   "outputs": [
    {
     "name": "stdout",
     "output_type": "stream",
     "text": [
      "Best params for Linear Regression: {'fit_intercept': False, 'positive': False, 'copy_X': True, 'n_jobs': 1} \n",
      "MSE = 1278104.010589665\n"
     ]
    }
   ],
   "source": [
    "print(f\"Best params for Linear Regression: {best_params}\", \n",
    "      f\"\\nMSE = {best_score}\")"
   ]
  }
 ],
 "metadata": {
  "kernelspec": {
   "display_name": "env",
   "language": "python",
   "name": "python3"
  },
  "language_info": {
   "codemirror_mode": {
    "name": "ipython",
    "version": 3
   },
   "file_extension": ".py",
   "mimetype": "text/x-python",
   "name": "python",
   "nbconvert_exporter": "python",
   "pygments_lexer": "ipython3",
   "version": "3.9.13"
  },
  "orig_nbformat": 4
 },
 "nbformat": 4,
 "nbformat_minor": 2
}
